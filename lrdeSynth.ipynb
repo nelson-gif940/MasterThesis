{
 "cells": [
  {
   "cell_type": "markdown",
   "metadata": {},
   "source": [
    "# SYNTHETIC EXAMPLE FOR LOW RANK DIFFERENTIAL EQUATION APPROXIMATION"
   ]
  },
  {
   "cell_type": "markdown",
   "metadata": {},
   "source": [
    "We start by importing the librairies"
   ]
  },
  {
   "cell_type": "code",
   "execution_count": 83,
   "metadata": {},
   "outputs": [],
   "source": [
    "import numpy as np\n",
    "import matplotlib.pyplot as plt\n",
    "from mpl_toolkits import mplot3d\n",
    "import numpy as np\n",
    "import matplotlib.animation as animation\n",
    "import matplotlib.pyplot as plt\n",
    "from mpl_toolkits.mplot3d import Axes3D \n",
    "import matplotlib.animation as animation\n",
    "import matplotlib.pyplot as plt\n",
    "%matplotlib inline\n",
    "from celluloid import Camera\n",
    "from scipy.linalg import expm, sinm, cosm"
   ]
  },
  {
   "cell_type": "markdown",
   "metadata": {},
   "source": [
    "This notebook uses this sources : \n",
    "\n",
    "**1)**_Projection Methods for Dynamical Low-Rank Approximation of High-Dimensional Problems_\n",
    "\n",
    "Emil Kieri and Bart Vandereycken\n",
    "https://www.degruyter.com/view/journals/cmam/19/1/article-p73.xml\n",
    "\n",
    "**2)**_Streaming Low-Rank Matrix Approximation with an Application to Scientific Simulation_\n",
    "​\n",
    "Joel A. Tropp, Alp Yurtsever, Madeleine Udell, Volkan Cevher\n",
    "https://arxiv.org/pdf/1902.08651.pdf\n",
    "​"
   ]
  },
  {
   "cell_type": "markdown",
   "metadata": {},
   "source": [
    "We want to compute a synthetic example (see source [1]) to test if the low rank approximation algorithm works in differential equation case. We already know the solution to the problem, which is : \n",
    "\n",
    "$$A(t)=e^{t \\Omega_{1}} e^{t D} e^{t \\Omega_{2}}$$\n",
    "\n",
    "with $0 \\leq t \\leq 1$ and $\\Omega_{1}, \\Omega_{2}$ two random skew-symmetric matrices of size $n \\times n$\n",
    "\n",
    "The derivative at t is : \n",
    "\n",
    "$$dA(t)=\\Omega_{1} e^{t \\Omega_{1}} e^{t D} e^{t \\Omega_{2}}+e^{t \\Omega_{1}} D e^{t D} e^{t \\Omega_{2}} + e^{t \\Omega_{1}} e^{t D} \\Omega_{2}  e^{t \\Omega_{2}}$$\n",
    "\n",
    "We now define the two function **A_t** & **dA_t**"
   ]
  },
  {
   "cell_type": "code",
   "execution_count": 58,
   "metadata": {},
   "outputs": [],
   "source": [
    "def A_t(t):\n",
    "    e_1=expm(t*O_1)\n",
    "    e_2=expm(t*O_2)\n",
    "    e_d=expm(t*D)\n",
    "    A_t=e_1@e_d@e_2\n",
    "    \n",
    "    return A_t\n",
    "\n",
    "def dA_t(t):\n",
    "    \n",
    "    e_1=expm(t*O_1)\n",
    "    e_2=expm(t*O_2)\n",
    "    e_d=expm(t*D)\n",
    "    dA_t=O_1@e_1@e_d@e_2+e_1@D@e_d@e_2+e_1@e_d@O_2@e_2\n",
    "    \n",
    "    return dA_t"
   ]
  },
  {
   "cell_type": "markdown",
   "metadata": {},
   "source": [
    "_remark : we need to use expm instead of np.exp for the matrices case_"
   ]
  },
  {
   "cell_type": "markdown",
   "metadata": {},
   "source": [
    "We then define the solver (Euler and RK4)"
   ]
  },
  {
   "cell_type": "markdown",
   "metadata": {},
   "source": [
    "**Euler**"
   ]
  },
  {
   "cell_type": "markdown",
   "metadata": {},
   "source": [
    "$A_{n+1}=A_{n}+h*dA_{n}$\n",
    "\n",
    "$A_0=A_{init}$"
   ]
  },
  {
   "cell_type": "code",
   "execution_count": 59,
   "metadata": {},
   "outputs": [],
   "source": [
    "def Euler_Solver(func, Ainit, t_range, h):\n",
    "    #Description = solve the problem F(A)=dA with the Euler Scheme\n",
    "    #Inputs = func : function to evaluate, Ainit : A initial, t_range : range for t, h : step size\n",
    "    #Ouputs = tsol : time sol, Asol : solution at Y\n",
    "    \n",
    "\n",
    "    #-------------------------------- initialisation\n",
    "    \n",
    "    n = int((t_range[-1] - t_range[0])/h) #number of step\n",
    "    \n",
    "\n",
    "    #--------------------------------- 0 step\n",
    "    \n",
    "    Asol=[]\n",
    "    Asol.append(Ainit) #0 step\n",
    "    \n",
    "    tsol=[]\n",
    "    tsol.append(t_range[0])\n",
    "    \n",
    "    #----------------------------------- calcul\n",
    "    \n",
    "    for i in range(n):\n",
    "        \n",
    "        A=Asol[i]\n",
    "        t=tsol[i]\n",
    "        \n",
    "        dA = dA_t(t) # Evaluates dy/dx\n",
    "                \n",
    "        Asol.append(Asol[i]+dA*h) #Euler\n",
    "                          \n",
    "        t += h # Increase x-step\n",
    "        \n",
    "        tsol = np.append(tsol, t) \n",
    "        \n",
    "    \n",
    "    return([tsol,Asol])"
   ]
  },
  {
   "cell_type": "markdown",
   "metadata": {},
   "source": [
    "**RK4**"
   ]
  },
  {
   "cell_type": "markdown",
   "metadata": {},
   "source": [
    "$A_{n+1}=A_{n}+h*(k_{1} / 6+k_{2} / 3+k_{3} / 3+k_{4} / 6)$\n",
    "\n",
    "$A_0=A_{init}$\n",
    "\n",
    "$k_{1}=dA(t_n)$\n",
    "\n",
    "$k_{2}=dA(t_n+\\frac{h}{2})+\\frac{h}{2}*k1$\n",
    "\n",
    "$k_{3}=dA(t_n+\\frac{h}{2})+\\frac{h}{2}*k2$\n",
    "\n",
    "$k_{4}=dA(t_n+h)+h*k3$"
   ]
  },
  {
   "cell_type": "code",
   "execution_count": 85,
   "metadata": {},
   "outputs": [],
   "source": [
    "def rk4_Solver(func, Ainit, t_range, h):\n",
    "    #Description : Given a func, Ainit, t_range,the time step h,\n",
    "    #return the approximed solution (Ysol) \n",
    "    #corresponding to the time solution (tsol) using Runge Kunta order 4\n",
    "    #Inputs : func = fonction, Ainit = A initial, t_range = time range, h = time step\n",
    "    #Outputs : tsol, Ysol = solution at tsol\n",
    "\n",
    "    #-------------------------------- initialisation\n",
    "    \n",
    "    \n",
    "    Asol=[]\n",
    "    Asol.append(Ainit) #0 step\n",
    "    \n",
    "    tsol=[]\n",
    "    tsol.append(t_range[0])\n",
    "    \n",
    "    \n",
    "    #----------------------------------- Runge Kunta\n",
    "    \n",
    "    for i in range(n):\n",
    "        \n",
    "        A=Asol[i]\n",
    "        t=tsol[i]\n",
    "        \n",
    "        #---------------------- weight\n",
    "        \n",
    "        k1=dA_t(t)\n",
    "        k2=dA_t(t+h/2)+(h/2)*k1\n",
    "        k3=dA_t(t+h/2)+(h/2)*k2\n",
    "        k4=dA_t(t+h)+h*k3\n",
    "        \n",
    "        \n",
    "        approx=A+(h/6)*(k1+2*k2+2*k3+k4) #RK4 shema\n",
    "\n",
    "        \n",
    "        Asol.append(approx)\n",
    "                              \n",
    "        t += h # Increase x-step\n",
    "        \n",
    "        tsol = np.append(tsol, t)   \n",
    "        \n",
    "    return([tsol,Asol])"
   ]
  },
  {
   "cell_type": "markdown",
   "metadata": {},
   "source": [
    "We now compute the result for these normal solver : "
   ]
  },
  {
   "cell_type": "markdown",
   "metadata": {},
   "source": [
    "We initiate the parameters : "
   ]
  },
  {
   "cell_type": "code",
   "execution_count": 86,
   "metadata": {},
   "outputs": [],
   "source": [
    "#---------------- nxn and epsilon for diagonal\n",
    "\n",
    "n=100\n",
    "eps=10**-6\n",
    "\n",
    "size=(n,n)\n",
    "\n",
    "eps\n",
    "\n",
    "d=np.linspace(eps,1,n)\n",
    "d=d[::-1]\n",
    "d=[10**d[i] for i in range(100)]\n",
    "D=np.diagflat(d)\n",
    "\n",
    "#---------------- omega 1 and omega 2 \n",
    "\n",
    "O_1 = np.random.random(size) ; O_1=1/2*(O_1-np.transpose(O_1)) #generating a skew symetric matrix\n",
    "O_2 = np.random.random(size) ; O_2=1/2*(O_2-np.transpose(O_2)) #generating a skew symetric matrix"
   ]
  },
  {
   "cell_type": "markdown",
   "metadata": {},
   "source": [
    "Then we compute the relative error "
   ]
  },
  {
   "cell_type": "code",
   "execution_count": 87,
   "metadata": {},
   "outputs": [],
   "source": [
    "Ainit = A_t(0)\n",
    "\n",
    "h=0.001\n",
    "\n",
    "[ts1,ys1]=Euler_Solver(dA_t, Ainit, [0,1], h)\n",
    "[ts2,ys2]=rk4_Solver(dA_t, Ainit, [0,1], h)\n",
    "\n",
    "\n",
    "#Exact\n",
    "ts0=ts1\n",
    "ys0=[]\n",
    "\n",
    "for i in range(len(ts0)):\n",
    "    a=A_t(i*h)\n",
    "    ys0.append(a)\n",
    "    \n",
    "err1=[np.linalg.norm(ys1[i]-ys0[i],'fro')/np.linalg.norm(ys0[i],'fro') for i in range(n)]\n",
    "err2=[np.linalg.norm(ys2[i]-ys0[i],'fro')/np.linalg.norm(ys0[i],'fro') for i in range(n)]"
   ]
  },
  {
   "cell_type": "markdown",
   "metadata": {},
   "source": [
    "Now we plot the error"
   ]
  },
  {
   "cell_type": "code",
   "execution_count": 88,
   "metadata": {},
   "outputs": [
    {
     "data": {
      "text/plain": [
       "<matplotlib.legend.Legend at 0x143cd598c50>"
      ]
     },
     "execution_count": 88,
     "metadata": {},
     "output_type": "execute_result"
    },
    {
     "data": {
      "image/png": "[encoded data removed]",
      "text/plain": [
       "<Figure size 432x288 with 1 Axes>"
      ]
     },
     "metadata": {},
     "output_type": "display_data"
    }
   ],
   "source": [
    "plt.semilogy(err1,'--', label='Euler')\n",
    "plt.semilogy(err2,'--', label='RK4')\n",
    "plt.legend()\n",
    "\n",
    "#plt.title('Relative error $R_F$ for each points of the discretized space')\n"
   ]
  },
  {
   "cell_type": "markdown",
   "metadata": {},
   "source": [
    "We now want to test if the method is consistent by changing the h and seeing how the error at each step behaves"
   ]
  },
  {
   "cell_type": "code",
   "execution_count": 90,
   "metadata": {},
   "outputs": [],
   "source": [
    "hstart=0.01\n",
    "\n",
    "err_h_1=[]\n",
    "err_h_2=[]\n",
    "\n",
    "size=Ainit.shape\n",
    "\n",
    "factor=size[0]*size[1]\n",
    "\n",
    "h_vec=[]\n",
    "\n",
    "for i in range(6):\n",
    "    \n",
    "    h=hstart/(2**i)\n",
    "    \n",
    "    #Exact\n",
    "    \n",
    "    ts0=ts1\n",
    "    ys0=[]\n",
    "    \n",
    "    for i in range(len(ts0)):\n",
    "        \n",
    "        a=A_t(i*h)\n",
    "        ys0.append(a)\n",
    "    \n",
    "    [ts1,ys1]=Euler_Solver(dA_t, Ainit, [0,1], h)\n",
    "    [ts2,ys2]=rk4_Solver(dA_t, Ainit, [0,1], h)\n",
    "        \n",
    "    moy1=np.sum(np.abs(ys1[1]-ys0[1]))/factor #moyenne par pour chaque point\n",
    "    moy2=np.sum(np.abs(ys2[1]-ys0[1]))/factor #idem\n",
    "    \n",
    "    err_h_1.append(moy1*h)\n",
    "    err_h_2.append(moy2*h)\n",
    "    \n",
    "    h_vec.append(h**4)\n",
    "\n"
   ]
  },
  {
   "cell_type": "markdown",
   "metadata": {},
   "source": [
    "Plotting the result "
   ]
  },
  {
   "cell_type": "code",
   "execution_count": 91,
   "metadata": {},
   "outputs": [
    {
     "data": {
      "text/plain": [
       "Text(0,0.5,'Mean Error by step')"
      ]
     },
     "execution_count": 91,
     "metadata": {},
     "output_type": "execute_result"
    },
    {
     "data": {
      "image/png": "[encoded data removed]",
      "text/plain": [
       "<Figure size 432x288 with 1 Axes>"
      ]
     },
     "metadata": {},
     "output_type": "display_data"
    }
   ],
   "source": [
    "plt.semilogy(err_h_1,label='Euler')\n",
    "plt.semilogy(err_h_2,label='RK4')\n",
    "plt.semilogy(h_vec, label='h')\n",
    "\n",
    "\n",
    "plt.legend()\n",
    "plt.title('Mean error (exact) by step for different h')\n",
    "plt.xlabel('hstart/(2**i)')\n",
    "plt.ylabel('Mean Error by step')"
   ]
  },
  {
   "cell_type": "markdown",
   "metadata": {},
   "source": [
    "Now we want to change the solvers to approximate the result at each iteration by using a low rank algorithm. We will use the STA algorithm (see source [2])"
   ]
  },
  {
   "cell_type": "code",
   "execution_count": 92,
   "metadata": {},
   "outputs": [],
   "source": [
    "def sta(r,A,k,s):\n",
    "    #INPUTS:\n",
    "    #r : truncated final rank\n",
    "    #A : matrix to approximate (MxN)\n",
    "    #Dim_redux : (KxM), (KxN), (SxM), (SxN)\n",
    "    #OUTPUTS : \n",
    "    #A_tilda : approximate matrix of rank r0\n",
    "    #////plan\n",
    "    #1. recuperation of the dim_red from the array\n",
    "    #2. capturing the range, corange, and the new whole \n",
    "    #3. qr to get the orthonormal matrix\n",
    "    #4. least square\n",
    "    #5. reconstruct the svd after troncature\n",
    "    #6. reconstruction\n",
    "    \n",
    "    #1. recuption of the dim_red from the array and initiation of X,Y,Z,W\n",
    "    #(KxM), (KxN), (SxM), (SxN)\n",
    "    \n",
    "    m,n =A.shape\n",
    "    Y_=np.random.randn(k,m) ; Ω=np.random.randn(k,n) ; Φ=np.random.randn(s,m) ; Ψ=np.random.randn(s,n)\n",
    "    \n",
    "    #2. capturing the range, corange, and the new whole \n",
    "    \n",
    "    X=Y_@A ; Y=A@Ω.conj().T ; Z=Φ@A@(Ψ.conj().T) ; \n",
    "    \n",
    "    #3. qr \n",
    "    \n",
    "    Q=np.linalg.qr(Y)[0] ; P=np.linalg.qr(X.conj().T)[0]\n",
    "    \n",
    "    #4. least square\n",
    "    \n",
    "    C=np.linalg.lstsq(Φ@Q,Z, rcond=None)[0]\n",
    "    C=(np.linalg.lstsq(Ψ@P,C.conj().T, rcond=None)[0]).conj().T\n",
    "    \n",
    "    #5. troncated svd + consolidation\n",
    "    \n",
    "    S, D, Vt=np.linalg.svd(C, full_matrices=True)\n",
    "    S=S[:,0:r] ; D=np.diag(D[0:r]) ; Vt=Vt[0:r,:]\n",
    "    S=Q@S ; Vt=Vt@(P.conj().T)\n",
    "    \n",
    "    #6. reconstruction\n",
    "    \n",
    "    Trunc_svd=[S,D,Vt]\n",
    "    A_tilda=S@D@Vt\n",
    "    \n",
    "    return(A_tilda, Trunc_svd)"
   ]
  },
  {
   "cell_type": "markdown",
   "metadata": {},
   "source": [
    "Now we define both solvers"
   ]
  },
  {
   "cell_type": "code",
   "execution_count": 93,
   "metadata": {},
   "outputs": [],
   "source": [
    "def Euler_Solver_sta(func, Ainit, t_range, h,r,k,s):\n",
    "    #Description = solve the problem F(A)=dA with the Euler Scheme\n",
    "    #Inputs = func : function to evaluate, Ainit : A initial, t_range : range for t, h : step size,\n",
    "    #r : aimed rank for each approximation, k,s : parameters for sta\n",
    "    #Ouputs = tsol : time sol, Asol : solution at Y\n",
    "    \n",
    "\n",
    "    #-------------------------------- initialisation\n",
    "    \n",
    "    n = int((t_range[-1] - t_range[0])/h) #number of step\n",
    "    \n",
    "\n",
    "    #--------------------------------- 0 step\n",
    "    \n",
    "    Asol=[]\n",
    "    Asol.append(sta(r,Ainit,k,s)[0]) #0 step\n",
    "    \n",
    "    tsol=[]\n",
    "    tsol.append(t_range[0])\n",
    "    \n",
    "    #----------------------------------- calcul\n",
    "    \n",
    "    for i in range(n):\n",
    "        \n",
    "        A=Asol[i]\n",
    "        t=tsol[i]\n",
    "        \n",
    "        dA = dA_t(t) # Evaluates dy/dx\n",
    "        \n",
    "        approx=Asol[i]+dA*h\n",
    "                \n",
    "        Asol.append(sta(r,approx,k,s)[0]) #Euler\n",
    "                          \n",
    "        t += h # Increase x-step\n",
    "        \n",
    "        tsol = np.append(tsol, t) \n",
    "        \n",
    "    \n",
    "    return([tsol,Asol])"
   ]
  },
  {
   "cell_type": "code",
   "execution_count": 94,
   "metadata": {},
   "outputs": [],
   "source": [
    "def rk4_Solver_sta(func, Ainit, t_range, h,r,k,s):\n",
    "    #Description : Given a func, Ainit, t_range,the time step h,aimed rank r, parameters k,s\n",
    "    #return the approximed solution (Ysol) \n",
    "    #corresponding to the time solution (tsol) using Runge Kunta order 4\n",
    "    #Inputs : func = fonction, Ainit = A initial, t_range = time range, h = time step\n",
    "    #Outputs : tsol, Ysol = solution at tsol\n",
    "\n",
    "    #-------------------------------- initialisation\n",
    "    \n",
    "    \n",
    "    Asol=[]\n",
    "    Asol.append(sta(r,Ainit,k,s)[0]) #0 step\n",
    "    \n",
    "    tsol=[]\n",
    "    tsol.append(t_range[0])\n",
    "    \n",
    "    \n",
    "    #----------------------------------- Runge Kunta\n",
    "    \n",
    "    for i in range(n):\n",
    "        \n",
    "        A=Asol[i]\n",
    "        t=tsol[i]\n",
    "        \n",
    "        #---------------------- weight\n",
    "        \n",
    "        k1=dA_t(t)\n",
    "        k2=dA_t(t+h/2)+(h/2)*k1\n",
    "        k3=dA_t(t+h/2)+(h/2)*k2\n",
    "        k4=dA_t(t+h)+h*k3\n",
    "        \n",
    "        \n",
    "        approx=A+(h/6)*(k1+2*k2+2*k3+k4) #RK4 shema\n",
    "\n",
    "        \n",
    "        Asol.append(sta(r,approx,k,s)[0])\n",
    "                              \n",
    "        t += h # Increase x-step\n",
    "        \n",
    "        tsol = np.append(tsol, t)   \n",
    "        \n",
    "    return([tsol,Asol])"
   ]
  },
  {
   "cell_type": "markdown",
   "metadata": {},
   "source": [
    "_Remark : On the interval [0,1], the matrix doesn't have a strong decaying singular value, which induces extremely weak result for any low rank algorithm. The result were obtaining by testing the singular value of these matrices_"
   ]
  },
  {
   "cell_type": "code",
   "execution_count": 95,
   "metadata": {},
   "outputs": [
    {
     "name": "stdout",
     "output_type": "stream",
     "text": [
      "[1. 1. 1. 1. 1. 1. 1. 1. 1. 1. 1. 1. 1. 1. 1. 1. 1. 1. 1. 1. 1. 1. 1. 1.\n",
      " 1. 1. 1. 1. 1. 1. 1. 1. 1. 1. 1. 1. 1. 1. 1. 1. 1. 1. 1. 1. 1. 1. 1. 1.\n",
      " 1. 1. 1. 1. 1. 1. 1. 1. 1. 1. 1. 1. 1. 1. 1. 1. 1. 1. 1. 1. 1. 1. 1. 1.\n",
      " 1. 1. 1. 1. 1. 1. 1. 1. 1. 1. 1. 1. 1. 1. 1. 1. 1. 1. 1. 1. 1. 1. 1. 1.\n",
      " 1. 1. 1. 1.]\n",
      "[2.71828183 2.65650136 2.59749755 2.54111615 2.48721309 2.43565372\n",
      " 2.38631211 2.33907037 2.2938181  2.25045181 2.20887444 2.1689949\n",
      " 2.13072764 2.09399228 2.05871322 2.02481933 1.99224365 1.9609231\n",
      " 1.93079821 1.90181291 1.87391427 1.84705232 1.82117984 1.79625222\n",
      " 1.77222724 1.74906497 1.72672759 1.70517929 1.68438611 1.66431586\n",
      " 1.64493802 1.62622359 1.60814505 1.59067625 1.57379234 1.55746968\n",
      " 1.5416858  1.52641928 1.51164975 1.49735781 1.48352494 1.47013352\n",
      " 1.45716672 1.44460849 1.43244351 1.42065714 1.40923541 1.39816496\n",
      " 1.38743301 1.37702735 1.36693629 1.35714864 1.34765371 1.33844122\n",
      " 1.32950135 1.32082468 1.31240217 1.30422518 1.29628538 1.28857479\n",
      " 1.28108578 1.27381097 1.26674331 1.25987601 1.25320254 1.24671664\n",
      " 1.24041227 1.23428363 1.22832513 1.22253139 1.21689725 1.21141772\n",
      " 1.20608799 1.20090344 1.1958596  1.19095219 1.18617704 1.18153017\n",
      " 1.17700771 1.17260594 1.16832127 1.16415022 1.16008944 1.15613571\n",
      " 1.15228588 1.14853695 1.14488598 1.14133015 1.13786674 1.13449311\n",
      " 1.13120669 1.12800503 1.12488572 1.12184645 1.11888499 1.11599917\n",
      " 1.11318688 1.11044608 1.10777482 1.10517117]\n"
     ]
    }
   ],
   "source": [
    "print(np.linalg.svd(A_t(0))[1])\n",
    "print(np.linalg.svd(A_t(0.1))[1])"
   ]
  },
  {
   "cell_type": "code",
   "execution_count": 96,
   "metadata": {},
   "outputs": [],
   "source": [
    "Ainit = A_t(0)\n",
    "\n",
    "[ts1,ys1]=Euler_Solver(dA_t, Ainit, [0,1], h)\n",
    "[ts2,ys2]=rk4_Solver(dA_t, Ainit, [0,1], h)\n",
    "[ts3,ys3]=Euler_Solver_sta(dA_t, Ainit, [0,1], h,20,40,80)\n",
    "[ts4,ys4]=rk4_Solver_sta(dA_t, Ainit, [0,1], h,20,40,80)\n",
    "\n",
    "\n",
    "#Exact\n",
    "ts0=ts1\n",
    "ys0=[]\n",
    "\n",
    "for i in range(len(ts0)):\n",
    "    a=A_t(i*h)\n",
    "    ys0.append(a)\n",
    "\n",
    "err1=[np.linalg.norm(ys1[i]-ys0[i],'fro')/np.linalg.norm(ys0[i],'fro') for i in range(n)]\n",
    "err2=[np.linalg.norm(ys2[i]-ys0[i],'fro')/np.linalg.norm(ys0[i],'fro') for i in range(n)]\n",
    "err3=[np.linalg.norm(ys3[i]-ys0[i],'fro')/np.linalg.norm(ys0[i],'fro') for i in range(n)]\n",
    "err4=[np.linalg.norm(ys4[i]-ys0[i],'fro')/np.linalg.norm(ys0[i],'fro') for i in range(n)]"
   ]
  },
  {
   "cell_type": "code",
   "execution_count": 100,
   "metadata": {},
   "outputs": [
    {
     "data": {
      "text/plain": [
       "Text(0.5,1,'Low-rank approximation for interval [0,1]')"
      ]
     },
     "execution_count": 100,
     "metadata": {},
     "output_type": "execute_result"
    },
    {
     "data": {
      "image/png": "[encoded data removed]",
      "text/plain": [
       "<Figure size 432x288 with 1 Axes>"
      ]
     },
     "metadata": {},
     "output_type": "display_data"
    }
   ],
   "source": [
    "plt.semilogy(err1,'--', label='Euler')\n",
    "plt.semilogy(err2,'--',label='RK4')\n",
    "plt.plot(err3, \":\", label='Low rank Euler')\n",
    "plt.plot(err4, \":\",label='Low rank RK4')\n",
    "plt.legend()\n",
    "plt.legend()\n",
    "plt.ylabel('Relative error $err_{rel}$')\n",
    "plt.title('Low-rank approximation for interval [0,1]')"
   ]
  },
  {
   "cell_type": "code",
   "execution_count": 98,
   "metadata": {},
   "outputs": [
    {
     "data": {
      "text/plain": [
       "array([2.20264658e+04, 1.75025139e+04, 1.39814260e+04, 1.12265200e+04,\n",
       "       9.06003633e+03, 7.34776813e+03, 5.98787123e+03, 4.90267250e+03,\n",
       "       4.03264282e+03, 3.33194003e+03, 2.76509654e+03, 2.30454562e+03,\n",
       "       1.92876540e+03, 1.62087964e+03, 1.36759824e+03, 1.15841129e+03,\n",
       "       9.84973433e+02, 8.40631437e+02, 7.20060331e+02, 6.18981854e+02,\n",
       "       5.33945815e+02, 4.62159593e+02, 4.01354698e+02, 3.49681923e+02,\n",
       "       3.05628665e+02, 2.67953493e+02, 2.35634181e+02, 2.07826289e+02,\n",
       "       1.83830049e+02, 1.63063786e+02, 1.45042534e+02, 1.29360759e+02,\n",
       "       1.15678374e+02, 1.03709363e+02, 9.32125244e+01, 8.39838958e+01,\n",
       "       7.58505461e+01, 6.86654742e+01, 6.23034033e+01, 5.66573045e+01,\n",
       "       5.16355159e+01, 4.71593489e+01, 4.31610939e+01, 3.95823555e+01,\n",
       "       3.63726581e+01, 3.34882761e+01, 3.08912495e+01, 2.85485548e+01,\n",
       "       2.64314032e+01, 2.45146472e+01, 2.27762764e+01, 2.11969887e+01,\n",
       "       1.97598253e+01, 1.84498577e+01, 1.72539214e+01, 1.61603864e+01,\n",
       "       1.51589601e+01, 1.42405183e+01, 1.33969586e+01, 1.26210742e+01,\n",
       "       1.19064446e+01, 1.12473405e+01, 1.06386418e+01, 1.00757655e+01,\n",
       "       9.55460349e+00, 9.07146773e+00, 8.62304264e+00, 8.20634327e+00,\n",
       "       7.81867858e+00, 7.45761924e+00, 7.12096924e+00, 6.80674089e+00,\n",
       "       6.51313274e+00, 6.23851010e+00, 5.98138776e+00, 5.74041466e+00,\n",
       "       5.51436037e+00, 5.30210295e+00, 5.10261825e+00, 4.91497034e+00,\n",
       "       4.73830292e+00, 4.57183176e+00, 4.41483780e+00, 4.26666111e+00,\n",
       "       4.12669536e+00, 3.99438294e+00, 3.86921050e+00, 3.75070500e+00,\n",
       "       3.63843014e+00, 3.53198309e+00, 3.43099162e+00, 3.33511143e+00,\n",
       "       3.24402379e+00, 3.15743340e+00, 3.07506638e+00, 2.99666856e+00,\n",
       "       2.92200381e+00, 2.85085263e+00, 2.78301078e+00, 2.71828809e+00])"
      ]
     },
     "execution_count": 98,
     "metadata": {},
     "output_type": "execute_result"
    },
    {
     "data": {
      "image/png": "[encoded data removed]",
      "text/plain": [
       "<Figure size 432x288 with 1 Axes>"
      ]
     },
     "metadata": {},
     "output_type": "display_data"
    }
   ],
   "source": [
    "plt.semilogy(np.linalg.svd(A_t(1))[1])\n",
    "np.linalg.svd(A_t(1))[1]"
   ]
  },
  {
   "cell_type": "markdown",
   "metadata": {},
   "source": [
    "Now we want to compare them to the error by the exact version (without low rank approximation) on the interval [3,4]"
   ]
  },
  {
   "cell_type": "code",
   "execution_count": 114,
   "metadata": {},
   "outputs": [],
   "source": [
    "interval=[3,4]\n",
    "Ainit = A_t(interval[0])\n",
    "\n",
    "[ts1,ys1]=Euler_Solver(dA_t, Ainit, interval, h)\n",
    "[ts2,ys2]=rk4_Solver(dA_t, Ainit, interval, h)\n",
    "[ts3,ys3]=Euler_Solver_sta(dA_t, Ainit, interval, h,20,40,80)\n",
    "[ts4,ys4]=rk4_Solver_sta(dA_t, Ainit, interval, h,20,40,80)\n",
    "\n",
    "\n",
    "#Exact\n",
    "ts0=ts1\n",
    "ys0=[]\n",
    "\n",
    "for i in range(len(ts0)):\n",
    "    a=A_t(3+i*h)\n",
    "    ys0.append(a)\n",
    "\n",
    "err1=[np.linalg.norm(ys1[i]-ys0[i],'fro')/np.linalg.norm(ys0[i],'fro') for i in range(n)]\n",
    "err2=[np.linalg.norm(ys2[i]-ys0[i],'fro')/np.linalg.norm(ys0[i],'fro') for i in range(n)]\n",
    "err3=[np.linalg.norm(ys3[i]-ys0[i],'fro')/np.linalg.norm(ys0[i],'fro') for i in range(n)]\n",
    "err4=[np.linalg.norm(ys4[i]-ys0[i],'fro')/np.linalg.norm(ys0[i],'fro') for i in range(n)]"
   ]
  },
  {
   "cell_type": "markdown",
   "metadata": {},
   "source": [
    "Plotting the result"
   ]
  },
  {
   "cell_type": "code",
   "execution_count": 115,
   "metadata": {},
   "outputs": [
    {
     "data": {
      "text/plain": [
       "Text(0.5,1,'Low-rank approximation for the interval $[3,4]$, target rank r=$20$')"
      ]
     },
     "execution_count": 115,
     "metadata": {},
     "output_type": "execute_result"
    },
    {
     "data": {
      "image/png": "[encoded data removed]",
      "text/plain": [
       "<Figure size 432x288 with 1 Axes>"
      ]
     },
     "metadata": {},
     "output_type": "display_data"
    }
   ],
   "source": [
    "plt.semilogy(err1,\"--\", label='Euler')\n",
    "plt.semilogy(err2,\"--\", label='RK4')\n",
    "plt.plot(err3, \":\", label='Low-rank Euler')\n",
    "plt.plot(err4, \":\",label='Low-rank RK4')\n",
    "plt.legend()\n",
    "plt.legend()\n",
    "plt.ylabel('Relative error $err_{rel}$')\n",
    "plt.xlabel('steps')\n",
    "plt.title('Low-rank approximation for the interval $[3,4]$, target rank r=$20$')"
   ]
  },
  {
   "cell_type": "markdown",
   "metadata": {},
   "source": [
    "Now we want to compare the result of this experiment with others low rank algorithme (see source [2] for more information on how to implement the algorithm)"
   ]
  },
  {
   "cell_type": "markdown",
   "metadata": {},
   "source": [
    "We implement the exact svd of rank r **svd_r**, the **tcyu** algorithm and the **hmt** algorithm"
   ]
  },
  {
   "cell_type": "code",
   "execution_count": 103,
   "metadata": {},
   "outputs": [],
   "source": [
    "def svd_r(A,r):\n",
    "    #INPUTS : \n",
    "    #A = matrix to troncate\n",
    "    #r = rank \n",
    "    #OUTPUT : \n",
    "    #M = matrix final \n",
    "    \n",
    "    U,D,Vt = np.linalg.svd(A, full_matrices=True)\n",
    "    U=U[:,0:r] ; Vt=Vt[0:r,:] ; D=np.diag(D[0:r])\n",
    "    finale=U@D@Vt\n",
    "    \n",
    "    return(finale)"
   ]
  },
  {
   "cell_type": "code",
   "execution_count": 104,
   "metadata": {},
   "outputs": [],
   "source": [
    "def hmt_fixed_r(M,r,k,q):\n",
    "    #INPUTS : \n",
    "    #M = Matrix MxN to approximate\n",
    "    #r = final rank\n",
    "    #k = dim redux size\n",
    "    #q = parameter (0,1,2)\n",
    "    #OUTPUTS : \n",
    "    #M_r = Matrix with approximated rank\n",
    "    #U_r = troncated singular vector matrix\n",
    "    \n",
    "    m=M.shape[0]\n",
    "    n=M.shape[1]\n",
    "\n",
    "    Omega=np.random.randn(n,k)\n",
    "    \n",
    "    if q==0:\n",
    "        \n",
    "        Y=M@Omega\n",
    "    \n",
    "    if q==1:\n",
    "        \n",
    "        Y=M@(M.conj().T@(M@Omega))\n",
    "        \n",
    "    if q==2:\n",
    "        \n",
    "        Y=M@(M.conj().T@(M@(M.conj().T@(M@Omega))))\n",
    "             \n",
    "    Q,R=np.linalg.qr(Y)\n",
    "        \n",
    "    B=Q.conj().T@M\n",
    "        \n",
    "    U,D,Vh=np.linalg.svd(B,full_matrices=True)\n",
    "    \n",
    "    U=U[:,0:r]\n",
    "    \n",
    "    D=D[0:r]\n",
    "    \n",
    "    Vh=Vh[0:r,:]\n",
    "\n",
    "    U=Q@U\n",
    "        \n",
    "    M_r=U@np.diagflat(D)@Vh\n",
    "        \n",
    "    U_r=U\n",
    "    \n",
    "    return(M_r,U_r)"
   ]
  },
  {
   "cell_type": "code",
   "execution_count": 105,
   "metadata": {},
   "outputs": [],
   "source": [
    "def tcyu(M,r,k,l):\n",
    "    #INPUTS : \n",
    "    #M = matrix to approximate\n",
    "    #r = wanted rank\n",
    "    #k,l = k<l (parameter)\n",
    "    #OUTPUTS : \n",
    "    #M_tilde = wanted matrix\n",
    "    \n",
    "    m=M.shape[0]\n",
    "    n=M.shape[1]\n",
    "    \n",
    "    Y_tilde=np.random.randn(l,m)\n",
    "    Ω=np.random.randn(k,n)\n",
    "    \n",
    "    X=Y_tilde@M\n",
    "    Y=M@(Ω.conj().T)\n",
    "    \n",
    "    Q, R=np.linalg.qr(Y)\n",
    "    \n",
    "    B=np.linalg.lstsq(Y_tilde@Q, X,rcond=None)[0]\n",
    "    \n",
    "    U, D, Vh = np.linalg.svd(B, full_matrices=True)\n",
    "    \n",
    "    U=U[:,0:r] ; D=D[0:r] ; Vh=Vh[0:r,:]\n",
    "    \n",
    "    Q_tilde=Q@U\n",
    "    \n",
    "    M_tilde=U@np.diagflat(D)@Vh\n",
    "    \n",
    "    M_tilde=Q@M_tilde\n",
    "    \n",
    "    return(M_tilde,Q_tilde)"
   ]
  },
  {
   "cell_type": "markdown",
   "metadata": {},
   "source": [
    "And we define the corresponding RK4 solver. We don't do the Euler case as it's less interesting. "
   ]
  },
  {
   "cell_type": "code",
   "execution_count": 106,
   "metadata": {},
   "outputs": [],
   "source": [
    "def rk4_Solver_svd_exact(func, Ainit, t_range, h,r):\n",
    "    #Description : Given a func, Ainit, t_range,the time step h,aimed rank r\n",
    "    #return the approximed solution (Ysol) \n",
    "    #corresponding to the time solution (tsol) using Runge Kunta order 4\n",
    "    #Inputs : func = fonction, Ainit = A initial, t_range = time range, h = time step\n",
    "    #Outputs : tsol, Ysol = solution at tsol\n",
    "\n",
    "    #-------------------------------- initialisation\n",
    "    \n",
    "    \n",
    "    Asol=[]\n",
    "    Asol.append(svd_r(Ainit,r)) #0 step\n",
    "    \n",
    "    tsol=[]\n",
    "    tsol.append(t_range[0])\n",
    "    \n",
    "    \n",
    "    #----------------------------------- Runge Kunta\n",
    "    \n",
    "    for i in range(n):\n",
    "        \n",
    "        A=Asol[i]\n",
    "        t=tsol[i]\n",
    "        \n",
    "        #---------------------- weight\n",
    "        \n",
    "        k1=dA_t(t)\n",
    "        k2=dA_t(t+h/2)+(h/2)*k1\n",
    "        k3=dA_t(t+h/2)+(h/2)*k2\n",
    "        k4=dA_t(t+h)+h*k3\n",
    "        \n",
    "        \n",
    "        approx=A+(h/6)*(k1+2*k2+2*k3+k4) #RK4 shema\n",
    "\n",
    "        \n",
    "        Asol.append(svd_r(approx,r))\n",
    "                              \n",
    "        t += h # Increase x-step\n",
    "        \n",
    "        tsol = np.append(tsol, t)   \n",
    "        \n",
    "    return([tsol,Asol])"
   ]
  },
  {
   "cell_type": "code",
   "execution_count": 107,
   "metadata": {},
   "outputs": [],
   "source": [
    "def rk4_Solver_hmt(func, Ainit, t_range, h,r,k,q):\n",
    "    #Description : Given a func, Ainit, t_range,the time step h,aimed rank r, k is the dim redux size\n",
    "    #and q is the parameter for hmt low rank algorithm\n",
    "    #return the approximed solution (Ysol) \n",
    "    #corresponding to the time solution (tsol) using Runge Kunta order 4\n",
    "    #Inputs : func = fonction, Ainit = A initial, t_range = time range, h = time step\n",
    "    #Outputs : tsol, Ysol = solution at tsol\n",
    "\n",
    "    #-------------------------------- initialisation\n",
    "    \n",
    "    \n",
    "    Asol=[]\n",
    "    Asol.append(hmt_fixed_r(Ainit,r,k,q)[0]) #0 step\n",
    "    \n",
    "    tsol=[]\n",
    "    tsol.append(t_range[0])\n",
    "    \n",
    "    \n",
    "    #----------------------------------- Runge Kunta\n",
    "    \n",
    "    for i in range(n):\n",
    "        \n",
    "        A=Asol[i]\n",
    "        t=tsol[i]\n",
    "        \n",
    "        #---------------------- weight\n",
    "        \n",
    "        k1=dA_t(t)\n",
    "        k2=dA_t(t+h/2)+(h/2)*k1\n",
    "        k3=dA_t(t+h/2)+(h/2)*k2\n",
    "        k4=dA_t(t+h)+h*k3\n",
    "        \n",
    "        \n",
    "        approx=A+(h/6)*(k1+2*k2+2*k3+k4) #RK4 shema\n",
    "\n",
    "        \n",
    "        Asol.append(hmt_fixed_r(approx,r,k,q)[0])\n",
    "                              \n",
    "        t += h # Increase x-step\n",
    "        \n",
    "        tsol = np.append(tsol, t)   \n",
    "        \n",
    "    return([tsol,Asol])"
   ]
  },
  {
   "cell_type": "code",
   "execution_count": 108,
   "metadata": {},
   "outputs": [],
   "source": [
    "def rk4_Solver_tcyu(func, Ainit, t_range, h,r,k,l):\n",
    "    #Description : Given a func, Ainit, t_range,the time step h,aimed rank r, the parameter k\n",
    "    #and l for the dim redux\n",
    "    #return the approximed solution (Ysol) \n",
    "    #corresponding to the time solution (tsol) using Runge Kunta order 4\n",
    "    #Inputs : func = fonction, Ainit = A initial, t_range = time range, h = time step\n",
    "    #Outputs : tsol, Ysol = solution at tsol\n",
    "\n",
    "    #-------------------------------- initialisation\n",
    "    \n",
    "    \n",
    "    Asol=[]\n",
    "    Asol.append(tcyu(Ainit,r,k,l)[0]) #0 step\n",
    "    \n",
    "    tsol=[]\n",
    "    tsol.append(t_range[0])\n",
    "    \n",
    "    \n",
    "    #----------------------------------- Runge Kunta\n",
    "    \n",
    "    for i in range(n):\n",
    "        \n",
    "        A=Asol[i]\n",
    "        t=tsol[i]\n",
    "        \n",
    "        #---------------------- weight\n",
    "        \n",
    "        k1=dA_t(t)\n",
    "        k2=dA_t(t+h/2)+(h/2)*k1\n",
    "        k3=dA_t(t+h/2)+(h/2)*k2\n",
    "        k4=dA_t(t+h)+h*k3\n",
    "        \n",
    "        \n",
    "        approx=A+(h/6)*(k1+2*k2+2*k3+k4) #RK4 shema\n",
    "\n",
    "        \n",
    "        Asol.append(tcyu(approx,r,k,l)[0])\n",
    "                              \n",
    "        t += h # Increase x-step\n",
    "        \n",
    "        tsol = np.append(tsol, t)   \n",
    "        \n",
    "    return([tsol,Asol])"
   ]
  },
  {
   "cell_type": "markdown",
   "metadata": {},
   "source": [
    "Now we want to compare the different solver against the exact solution"
   ]
  },
  {
   "cell_type": "code",
   "execution_count": 109,
   "metadata": {},
   "outputs": [],
   "source": [
    "Ainit = A_t(3)\n",
    "\n",
    "[ts1,ys1]=rk4_Solver_svd_exact(dA_t, Ainit, [3,4], h,20)\n",
    "[ts2,ys2]=rk4_Solver_hmt(dA_t, Ainit, [3,4], h,20,40,0)\n",
    "[ts3,ys3]=rk4_Solver_tcyu(dA_t, Ainit, [3,4], h,20,40,80)\n",
    "[ts4,ys4]=rk4_Solver_sta(dA_t, Ainit, [3,4], h,20,40,80)\n",
    "[ts5,ys5]=rk4_Solver(dA_t, Ainit, [3,4], h)\n",
    "\n",
    "\n",
    "#Exact\n",
    "ts0=ts1\n",
    "ys0=[]\n",
    "\n",
    "for i in range(len(ts0)):\n",
    "    a=A_t(3+i*h)\n",
    "    ys0.append(a)\n",
    "\n",
    "err1=[np.linalg.norm(ys1[i]-ys0[i],'fro')/np.linalg.norm(ys0[i],'fro') for i in range(n)]\n",
    "err2=[np.linalg.norm(ys2[i]-ys0[i],'fro')/np.linalg.norm(ys0[i],'fro') for i in range(n)]\n",
    "err3=[np.linalg.norm(ys3[i]-ys0[i],'fro')/np.linalg.norm(ys0[i],'fro') for i in range(n)]\n",
    "err4=[np.linalg.norm(ys4[i]-ys0[i],'fro')/np.linalg.norm(ys0[i],'fro') for i in range(n)]\n",
    "err5=[np.linalg.norm(ys5[i]-ys0[i],'fro')/np.linalg.norm(ys0[i],'fro') for i in range(n)]"
   ]
  },
  {
   "cell_type": "markdown",
   "metadata": {},
   "source": [
    "Now we plot the result"
   ]
  },
  {
   "cell_type": "code",
   "execution_count": 112,
   "metadata": {},
   "outputs": [
    {
     "data": {
      "text/plain": [
       "Text(0,0.5,'relative $err_{rel}$')"
      ]
     },
     "execution_count": 112,
     "metadata": {},
     "output_type": "execute_result"
    },
    {
     "data": {
      "image/png": "[encoded data removed]",
      "text/plain": [
       "<Figure size 432x288 with 1 Axes>"
      ]
     },
     "metadata": {},
     "output_type": "display_data"
    }
   ],
   "source": [
    "plt.semilogy(err1, \"--\", label='SVDr')\n",
    "plt.semilogy(err2, \"--\", label='HMT11')\n",
    "plt.semilogy(err3, \"--\", label='TYUC17')\n",
    "plt.semilogy(err4, \"--\",label='STA19')\n",
    "plt.semilogy(err5, label='RK4 w/ lr algorithm')\n",
    "plt.legend()\n",
    "plt.title('Comparison with other algorithms (target rank $r=20$)')\n",
    "plt.ylabel('relative $err_{rel}$')"
   ]
  }
 ],
 "metadata": {
  "kernelspec": {
   "display_name": "Python 3",
   "language": "python",
   "name": "python3"
  },
  "language_info": {
   "codemirror_mode": {
    "name": "ipython",
    "version": 3
   },
   "file_extension": ".py",
   "mimetype": "text/x-python",
   "name": "python",
   "nbconvert_exporter": "python",
   "pygments_lexer": "ipython3",
   "version": "3.6.5"
  }
 },
 "nbformat": 4,
 "nbformat_minor": 2
}
